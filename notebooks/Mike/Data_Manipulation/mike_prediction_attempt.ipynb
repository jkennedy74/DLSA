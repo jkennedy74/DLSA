{
 "cells": [
  {
   "cell_type": "code",
   "execution_count": 3,
   "metadata": {},
   "outputs": [
    {
     "name": "stderr",
     "output_type": "stream",
     "text": [
      "Using TensorFlow backend.\n"
     ]
    }
   ],
   "source": [
    "import os\n",
    "from flask import Flask, request, jsonify, render_template, redirect\n",
    "\n",
    "# Import and Initialize Sentiment Analyzer\n",
    "from vaderSentiment.vaderSentiment import SentimentIntensityAnalyzer\n",
    "analyzer = SentimentIntensityAnalyzer()\n",
    "\n",
    "# Load Larger LSTM network and generate text\n",
    "import sys\n",
    "import numpy\n",
    "from keras.models import Sequential\n",
    "from keras.layers import Dense\n",
    "from keras.layers import Dropout\n",
    "from keras.layers import LSTM\n",
    "from keras.callbacks import ModelCheckpoint\n",
    "from keras.utils import np_utils\n",
    "from keras import backend as k"
   ]
  },
  {
   "cell_type": "code",
   "execution_count": 21,
   "metadata": {},
   "outputs": [],
   "source": [
    "def corpus():\n",
    "    import keras\n",
    "    # Initiate Paths JK and updated Trump to TrumpSmall\n",
    "    filepath = ''\n",
    "    modelname = ''\n",
    "    \n",
    "    #define option here\n",
    "    option = 'option1'\n",
    "\n",
    "    if option == 'option1':\n",
    "        filepath = os.path.join('../../../data','text', 'seuss.txt')\n",
    "        modelname = os.path.join('../../../data', 'weights', 'checkpoint-22-0.8293-seuss.hdf5')\n",
    "    if option == 'option2':\n",
    "        filepath = os.path.join('data','text', 'trump.txt')\n",
    "        modelname = os.path.join('data', 'weights', 'checkpoint-10-1.6465-trump.hdf5')\n",
    "    if option == 'option3':\n",
    "        filepath = os.path.join('data','text', 'illiad.txt')\n",
    "        modelname = os.path.join('data', 'weights', 'checkpoint-19-1.3924-illiad.hdf5')\n",
    "    if option == 'option4':\n",
    "        filepath = os.path.join('data','text', 'timemachine.txt')\n",
    "        modelname = os.path.join('data', 'weights', 'checkpoint-49-1.4686-timemachine.hdf5')\n",
    "\n",
    "    k.clear_session()\n",
    "\n",
    "    # read the text file and covert to lowercase\n",
    "    raw_text = open(filepath, encoding = \"ISO-8859-1\").read()\n",
    "    raw_text = raw_text.lower()\n",
    "\n",
    "    # create mapping of unique chars to integers, and a reverse mapping\n",
    "    chars = sorted(list(set(raw_text)))\n",
    "    char_to_int = dict((c, i) for i, c in enumerate(chars))\n",
    "    int_to_char = dict((i, c) for i, c in enumerate(chars))\n",
    "\n",
    "    # summarize the loaded data\n",
    "    n_chars = len(raw_text)\n",
    "    n_vocab = len(chars)\n",
    "\n",
    "    # prepare the dataset of input to output pairs encoded as integers\n",
    "    seq_length = 100\n",
    "    dataX = []\n",
    "    dataY = []\n",
    "    for i in range(0, n_chars - seq_length, 1):\n",
    "        seq_in = raw_text[i:i + seq_length]\n",
    "        seq_out = raw_text[i + seq_length]\n",
    "        dataX.append([char_to_int[char] for char in seq_in])\n",
    "        dataY.append(char_to_int[seq_out])\n",
    "    n_patterns = len(dataX)\n",
    "\n",
    "    # reshape X to be [samples, time steps, features]\n",
    "    X = numpy.reshape(dataX, (n_patterns, seq_length, 1))\n",
    "    # normalize\n",
    "    X = X / float(n_vocab)\n",
    "    # one hot encode the output variable\n",
    "    y = np_utils.to_categorical(dataY)\n",
    "\n",
    "    # define the LSTM model\n",
    "    model = Sequential()\n",
    "    model.add(LSTM(256, input_shape=(X.shape[1], X.shape[2]), return_sequences=True))\n",
    "    model.add(Dropout(0.2))\n",
    "    model.add(LSTM(256))\n",
    "    model.add(Dropout(0.2))\n",
    "    model.add(Dense(y.shape[1], activation='softmax'))\n",
    "\n",
    "    # load the network weights\n",
    "    filename = modelname\n",
    "    model.load_weights(filename)\n",
    "    model.compile(loss='categorical_crossentropy', optimizer='adam')\n",
    "\n",
    "    seed_char = []\n",
    "\n",
    "    # pick a random seed\n",
    "    seed = []\n",
    "    start = numpy.random.randint(0, len(dataX)-1)\n",
    "    pattern = dataX[start]\n",
    "    for value in pattern:\n",
    "        seed_char.append(int_to_char[value])\n",
    "\n",
    "    if seed:\n",
    "        seed[0] = ''.join(seed_char)\n",
    "    if not seed:\n",
    "        seed.append(''.join(seed_char))\n",
    "\n",
    "    pred_char = []\n",
    "\n",
    "    for i in range(280):\n",
    "        x = numpy.reshape(pattern, (1, len(pattern), 1))\n",
    "        x = x / float(n_vocab)\n",
    "        prediction = model.predict(x, verbose=0)\n",
    "        bob = prediction[0]\n",
    "        index = numpy.random.choice(len(bob), p=bob)\n",
    "        # index = numpy.argmax(prediction)\n",
    "        result = int_to_char[index]\n",
    "        pred_char.append(result)\n",
    "        # sys.stdout.write(result)\n",
    "        pattern.append(index)\n",
    "        pattern = pattern[1:len(pattern)]\n",
    "    print (\"\\nDone.\")\n",
    "\n",
    "    if predicted_text:\n",
    "        predicted_text[0] = ''.join(pred_char)\n",
    "    if not predicted_text:\n",
    "        predicted_text.append(''.join(pred_char))\n",
    "    return result"
   ]
  },
  {
   "cell_type": "code",
   "execution_count": 22,
   "metadata": {},
   "outputs": [
    {
     "name": "stdout",
     "output_type": "stream",
     "text": [
      "\n",
      "Done.\n"
     ]
    },
    {
     "ename": "NameError",
     "evalue": "name 'predicted_text' is not defined",
     "output_type": "error",
     "traceback": [
      "\u001b[0;31m---------------------------------------------------------------------------\u001b[0m",
      "\u001b[0;31mNameError\u001b[0m                                 Traceback (most recent call last)",
      "\u001b[0;32m<ipython-input-22-5d142ebf0675>\u001b[0m in \u001b[0;36m<module>\u001b[0;34m()\u001b[0m\n\u001b[0;32m----> 1\u001b[0;31m \u001b[0mcorpus\u001b[0m\u001b[0;34m(\u001b[0m\u001b[0;34m)\u001b[0m\u001b[0;34m\u001b[0m\u001b[0m\n\u001b[0m",
      "\u001b[0;32m<ipython-input-21-f4b078da1b28>\u001b[0m in \u001b[0;36mcorpus\u001b[0;34m()\u001b[0m\n\u001b[1;32m     97\u001b[0m     \u001b[0mprint\u001b[0m \u001b[0;34m(\u001b[0m\u001b[0;34m\"\\nDone.\"\u001b[0m\u001b[0;34m)\u001b[0m\u001b[0;34m\u001b[0m\u001b[0m\n\u001b[1;32m     98\u001b[0m \u001b[0;34m\u001b[0m\u001b[0m\n\u001b[0;32m---> 99\u001b[0;31m     \u001b[0;32mif\u001b[0m \u001b[0mpredicted_text\u001b[0m\u001b[0;34m:\u001b[0m\u001b[0;34m\u001b[0m\u001b[0m\n\u001b[0m\u001b[1;32m    100\u001b[0m         \u001b[0mpredicted_text\u001b[0m\u001b[0;34m[\u001b[0m\u001b[0;36m0\u001b[0m\u001b[0;34m]\u001b[0m \u001b[0;34m=\u001b[0m \u001b[0;34m''\u001b[0m\u001b[0;34m.\u001b[0m\u001b[0mjoin\u001b[0m\u001b[0;34m(\u001b[0m\u001b[0mpred_char\u001b[0m\u001b[0;34m)\u001b[0m\u001b[0;34m\u001b[0m\u001b[0m\n\u001b[1;32m    101\u001b[0m     \u001b[0;32mif\u001b[0m \u001b[0;32mnot\u001b[0m \u001b[0mpredicted_text\u001b[0m\u001b[0;34m:\u001b[0m\u001b[0;34m\u001b[0m\u001b[0m\n",
      "\u001b[0;31mNameError\u001b[0m: name 'predicted_text' is not defined"
     ]
    }
   ],
   "source": [
    "corpus()"
   ]
  },
  {
   "cell_type": "code",
   "execution_count": null,
   "metadata": {},
   "outputs": [],
   "source": []
  }
 ],
 "metadata": {
  "kernelspec": {
   "display_name": "Python [conda env:data]",
   "language": "python",
   "name": "conda-env-data-py"
  },
  "language_info": {
   "codemirror_mode": {
    "name": "ipython",
    "version": 3
   },
   "file_extension": ".py",
   "mimetype": "text/x-python",
   "name": "python",
   "nbconvert_exporter": "python",
   "pygments_lexer": "ipython3",
   "version": "3.6.5"
  }
 },
 "nbformat": 4,
 "nbformat_minor": 2
}
