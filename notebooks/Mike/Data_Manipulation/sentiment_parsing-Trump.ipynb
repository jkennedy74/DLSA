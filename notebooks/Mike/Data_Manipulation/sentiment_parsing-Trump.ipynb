{
 "cells": [
  {
   "cell_type": "code",
   "execution_count": 1,
   "metadata": {},
   "outputs": [],
   "source": [
    "# Simple usage\n",
    "from stanfordcorenlp import StanfordCoreNLP\n",
    "\n",
    "nlp = StanfordCoreNLP(r'C:/Users/micha/MLTest/stanford-corenlp-full-2018-02-27')\n",
    "nlp = StanfordCoreNLP('http://localhost', port=9000)\n",
    "\n",
    "#print('Tokenize:', nlp.word_tokenize(sentence))\n",
    "#print('Part of Speech:', nlp.pos_tag(sentence))\n",
    "#print('Named Entities:', nlp.ner(sentence))\n",
    "#print('Constituency Parsing:', nlp.parse(sentence))\n",
    "#print('Dependency Parsing:', nlp.dependency_parse(sentence))"
   ]
  },
  {
   "cell_type": "code",
   "execution_count": 2,
   "metadata": {},
   "outputs": [],
   "source": [
    "# Define properties for coreNLP to execute calls\n",
    "props={'annotators': 'sentiment','pipelineLanguage':'en','outputFormat':'json'}"
   ]
  },
  {
   "cell_type": "code",
   "execution_count": 18,
   "metadata": {},
   "outputs": [
    {
     "name": "stdout",
     "output_type": "stream",
     "text": [
      "11321\n"
     ]
    }
   ],
   "source": [
    "# Define the target filepath\n",
    "filename = \"./Corpi/trump.json\"\n",
    "import csv\n",
    "# Use csvreader to read in the dictionaries into an list of strings\n",
    "list_of_tweets = []\n",
    "with open(filename, 'r', newline='') as csvfile:\n",
    "    csvreader = csv.reader(csvfile)\n",
    "    for line in csvreader:\n",
    "        _line = line[0]\n",
    "        _line_parts = _line.split('\"column1\":')\n",
    "        line_text = _line_parts[1]\n",
    "        clean_text = line_text.replace('}','')\n",
    "        list_of_tweets.append(clean_text)\n",
    "print(len(list_of_tweets))"
   ]
  },
  {
   "cell_type": "code",
   "execution_count": 19,
   "metadata": {},
   "outputs": [],
   "source": [
    "import json\n",
    "sentiment = []\n",
    "i=0\n",
    "with open('Trump_cNLP_sentiment_test.txt', 'w') as jsonfile:\n",
    "    for tweet in list_of_tweets:\n",
    "        output = nlp.annotate(tweet,props)\n",
    "        if output == \"CoreNLP request timed out. Your document may be too long.\":\n",
    "            next\n",
    "        elif type(output) is str:\n",
    "            #print(output)\n",
    "            output = json.loads(output, strict=False)\n",
    "            json.dump(output,jsonfile)\n",
    "            jsonfile.write(',')\n",
    "            "
   ]
  },
  {
   "cell_type": "code",
   "execution_count": null,
   "metadata": {},
   "outputs": [],
   "source": []
  },
  {
   "cell_type": "code",
   "execution_count": null,
   "metadata": {},
   "outputs": [],
   "source": []
  },
  {
   "cell_type": "code",
   "execution_count": null,
   "metadata": {},
   "outputs": [],
   "source": []
  },
  {
   "cell_type": "code",
   "execution_count": null,
   "metadata": {},
   "outputs": [],
   "source": []
  },
  {
   "cell_type": "code",
   "execution_count": null,
   "metadata": {},
   "outputs": [],
   "source": []
  }
 ],
 "metadata": {
  "kernelspec": {
   "display_name": "Python 3",
   "language": "python",
   "name": "python3"
  },
  "language_info": {
   "codemirror_mode": {
    "name": "ipython",
    "version": 3
   },
   "file_extension": ".py",
   "mimetype": "text/x-python",
   "name": "python",
   "nbconvert_exporter": "python",
   "pygments_lexer": "ipython3",
   "version": "3.6.6"
  }
 },
 "nbformat": 4,
 "nbformat_minor": 2
}
