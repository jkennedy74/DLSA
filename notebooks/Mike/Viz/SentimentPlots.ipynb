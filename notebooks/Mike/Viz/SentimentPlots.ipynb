{
 "cells": [
  {
   "cell_type": "code",
   "execution_count": 114,
   "metadata": {},
   "outputs": [
    {
     "data": {
      "text/html": [
       "<script>requirejs.config({paths: { 'plotly': ['https://cdn.plot.ly/plotly-latest.min']},});if(!window.Plotly) {{require(['plotly'],function(plotly) {window.Plotly=plotly;});}}</script>"
      ],
      "text/vnd.plotly.v1+html": [
       "<script>requirejs.config({paths: { 'plotly': ['https://cdn.plot.ly/plotly-latest.min']},});if(!window.Plotly) {{require(['plotly'],function(plotly) {window.Plotly=plotly;});}}</script>"
      ]
     },
     "metadata": {},
     "output_type": "display_data"
    }
   ],
   "source": [
    "from plotly.offline import download_plotlyjs, init_notebook_mode, plot, iplot\n",
    "import plotly.offline as offline\n",
    "import plotly.graph_objs as go\n",
    "init_notebook_mode(connected=True)\n",
    "import numpy as np\n",
    "import json"
   ]
  },
  {
   "cell_type": "code",
   "execution_count": 91,
   "metadata": {},
   "outputs": [],
   "source": [
    "\n",
    "corpus = \"\"\n",
    "\n",
    "def importData(corpus):\n",
    "    '''helper function to import data into python objects for plotting\n",
    "    accepts corpus name as input\n",
    "    returns a frequency dictionary and a sentiment list'''\n",
    "    array_filepath= f\"../../../data/sentimentOutput/{corpus}_cNLP_sentiment_array.txt\"\n",
    "    frequency_filepath=f\"../../../data/sentimentOutput/{corpus}_cNLP_sentiment_frequency.txt\"\n",
    "    list_of_filepaths = [array_filepath, frequency_filepath]\n",
    "    sentimentDict = None\n",
    "    list_of_sentiment = None\n",
    "    for filepath in list_of_filepaths:\n",
    "        try:\n",
    "            with open(filepath, 'r') as file:\n",
    "                strng = file.read()\n",
    "                try:\n",
    "                    sentimentDict = json.loads(strng)\n",
    "                    print(\"It worked!\")\n",
    "                except ValueError:\n",
    "                    sentimentDict = {}\n",
    "                    print(\"Not a dictionary, trying to convert to list\")\n",
    "                    strng = strng.replace('\\n','')\n",
    "                    for score in strng:\n",
    "                        list_of_sentiment = list(strng)\n",
    "        except FileNotFoundError:\n",
    "            next\n",
    "        if sentimentDict is None:\n",
    "            sentimentDict={}\n",
    "        if list_of_sentiment is None:\n",
    "            list_of_sentiment = []\n",
    "    return sentimentDict, list_of_sentiment\n",
    "    \n",
    "def sentimentHistogram(sentimentDict):\n",
    "    data = [{'marker': {'color': 'red', 'size': '10', 'symbol': 104},\n",
    "  'mode': 'markers+lines',\n",
    "  'name': '1st Trace',\n",
    "  'text': ['one', 'two', 'three'],\n",
    "  'type': 'scatter',\n",
    "  'x': [1, 2, 3],\n",
    "  'y': [4, 5, 6]}]"
   ]
  },
  {
   "cell_type": "code",
   "execution_count": 156,
   "metadata": {},
   "outputs": [
    {
     "name": "stdout",
     "output_type": "stream",
     "text": [
      "Not a dictionary, trying to convert to list\n",
      "It worked!\n",
      "Not a dictionary, trying to convert to list\n",
      "It worked!\n",
      "Not a dictionary, trying to convert to list\n",
      "It worked!\n",
      "Not a dictionary, trying to convert to list\n",
      "It worked!\n"
     ]
    }
   ],
   "source": [
    "illiad_dict, illiad_array = importData('illiad')\n",
    "seuss_dict, seuss_array = importData('seuss')\n",
    "timemachine_dict, timemachine_array = importData('timemachine')\n",
    "trump_dict, trump_array = importData('Trump')"
   ]
  },
  {
   "cell_type": "code",
   "execution_count": 157,
   "metadata": {
    "scrolled": true
   },
   "outputs": [
    {
     "data": {
      "text/plain": [
       "{'0': 0, '1': 207, '2': 666, '3': 125, '4': 0}"
      ]
     },
     "execution_count": 157,
     "metadata": {},
     "output_type": "execute_result"
    }
   ],
   "source": [
    "def equalizeDicts(dct):\n",
    "    for i in range(5):\n",
    "        try:\n",
    "            dct[str(i)]\n",
    "        except KeyError:\n",
    "            dct[str(i)]=0\n",
    "    return dct\n",
    "illiad_dict = equalizeDicts(illiad_dict)\n",
    "seuss_dict = equalizeDicts(seuss_dict)\n",
    "timemachine_dict = equalizeDicts(timemachine_dict)\n",
    "trump_dict = equalizeDicts(trump_dict)\n",
    "seuss_dict"
   ]
  },
  {
   "cell_type": "code",
   "execution_count": 208,
   "metadata": {},
   "outputs": [
    {
     "data": {
      "text/plain": [
       "'file://C:\\\\Users\\\\micha\\\\DLSA\\\\notebooks\\\\Mike\\\\Viz\\\\absolute_sentiment.html'"
      ]
     },
     "execution_count": 208,
     "metadata": {},
     "output_type": "execute_result"
    }
   ],
   "source": [
    "#Absolute Sentiment Histogram\n",
    "x = [0,1,2,3,4]\n",
    "illiad_y = [illiad_dict[str(i)] for i in x]\n",
    "seuss_y = [seuss_dict[str(i)] for i in x]\n",
    "timemachine_y = [timemachine_dict[str(i)] for i in x]\n",
    "trump_y = [trump_dict[str(i)] for i in x]\n",
    "illiad = go.Bar(\n",
    "    x=x,\n",
    "    y=illiad_y,\n",
    "    opacity=1,\n",
    "    name='Illiad',\n",
    "    marker = dict(color='#cb4679')\n",
    ")\n",
    "seuss = go.Bar(\n",
    "    x=x,\n",
    "    y=seuss_y,\n",
    "    opacity=1,\n",
    "    name='Seuss',\n",
    "    marker = dict(color='#7d03a8')\n",
    ")\n",
    "timemachine = go.Bar(\n",
    "    x=x,\n",
    "    y=timemachine_y,\n",
    "    opacity=1,\n",
    "    name='Time Machine',\n",
    "    marker = dict(color='#f0f921')\n",
    ")\n",
    "trump = go.Bar(\n",
    "    x=x,\n",
    "    y=trump_y,\n",
    "    opacity=1,\n",
    "    name='Trump',\n",
    "    marker = dict(color='#fdc328')\n",
    ")\n",
    "\n",
    "data = [illiad, seuss,timemachine,trump]\n",
    "layout = go.Layout(barmode='stack',\n",
    "                  title='Sentences Scored by cNLP',\n",
    "                   xaxis=dict(\n",
    "                   title='Sentiment Score (0 - 4)'),\n",
    "    yaxis=dict(\n",
    "        title='Sentence Count',\n",
    "        titlefont=dict(\n",
    "            size=16,\n",
    "            color='rgb(107, 107, 107)'\n",
    "        ),\n",
    "    ),)\n",
    "fig = go.Figure(data=data, layout=layout)\n",
    "\n",
    "offline.plot(fig, filename='absolute_sentiment.html')"
   ]
  },
  {
   "cell_type": "code",
   "execution_count": 209,
   "metadata": {},
   "outputs": [
    {
     "data": {
      "text/plain": [
       "'file://C:\\\\Users\\\\micha\\\\DLSA\\\\notebooks\\\\Mike\\\\Viz\\\\rel_sentiment.html'"
      ]
     },
     "execution_count": 209,
     "metadata": {},
     "output_type": "execute_result"
    }
   ],
   "source": [
    "#Relative Sentiment Stacked Bar Chart\n",
    "x = [0,1,2,3,4]\n",
    "#Convert sentiment frequencies relative to total as %\n",
    "illiad_y = [(int(illiad_dict[str(i)])/len(illiad_array))*100 for i in x]\n",
    "seuss_y = [(int(seuss_dict[str(i)])/len(seuss_array))*100 for i in x]\n",
    "timemachine_y = [(int(timemachine_dict[str(i)])/len(timemachine_array))*100 for i in x]\n",
    "trump_y = [(int(trump_dict[str(i)])/len(trump_array))*100 for i in x]\n",
    "illiad = go.Bar(\n",
    "    x=x,\n",
    "    y=illiad_y,\n",
    "    opacity=1,\n",
    "    name='Illiad',\n",
    "    marker = dict(color='#cb4679')\n",
    ")\n",
    "seuss = go.Bar(\n",
    "    x=x,\n",
    "    y=seuss_y,\n",
    "    opacity=1,\n",
    "    name='Seuss',\n",
    "    marker = dict(color='#f0f921')\n",
    ")\n",
    "timemachine = go.Bar(\n",
    "    x=x,\n",
    "    y=timemachine_y,\n",
    "    opacity=1,\n",
    "    name='Time Machine',\n",
    "    marker = dict(color='#7d03a8')    \n",
    ")\n",
    "trump = go.Bar(\n",
    "    x=x,\n",
    "    y=trump_y,\n",
    "    opacity=1,\n",
    "    name='Trump',\n",
    "    marker = dict(color='#fdc328')\n",
    ")\n",
    "\n",
    "data = [illiad, seuss,timemachine,trump]\n",
    "layout = go.Layout(barmode='group',\n",
    "                  title='%Of Scored Sentences',\n",
    "                   xaxis=dict(\n",
    "                   title='Sentiment Score (0 - 4)'),\n",
    "    yaxis=dict(\n",
    "        title='%Of Scored Sentences',\n",
    "        titlefont=dict(\n",
    "            size=16,\n",
    "            color='rgb(107, 107, 107)'\n",
    "        ),\n",
    "    ),)\n",
    "fig = go.Figure(data=data, layout=layout)\n",
    "\n",
    "offline.plot(fig, filename='rel_sentiment.html')"
   ]
  },
  {
   "cell_type": "code",
   "execution_count": null,
   "metadata": {},
   "outputs": [],
   "source": []
  }
 ],
 "metadata": {
  "kernelspec": {
   "display_name": "Python 3",
   "language": "python",
   "name": "python3"
  },
  "language_info": {
   "codemirror_mode": {
    "name": "ipython",
    "version": 3
   },
   "file_extension": ".py",
   "mimetype": "text/x-python",
   "name": "python",
   "nbconvert_exporter": "python",
   "pygments_lexer": "ipython3",
   "version": "3.6.4"
  }
 },
 "nbformat": 4,
 "nbformat_minor": 2
}
